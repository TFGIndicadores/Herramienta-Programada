{
 "cells": [
  {
   "cell_type": "code",
   "execution_count": null,
   "metadata": {},
   "outputs": [],
   "source": [
    "import sqlite3\n",
    "\n",
    "sqlconn = sqlite3.connect('PruebasTFG.db')\n",
    "cursor = sqlconn.cursor()\n",
    "\n",
    "query = '''CREATE TABLE tablaTFG (\n",
    "                                id INTEGER PRIMARY KEY,\n",
    "                                nombre_ind TEXT NOT NULL,\n",
    "                                valor INTEGER NOT NULL,\n",
    "                                fecha datetime);'''\n",
    "cursor.execute(query)\n",
    "sqlconn.commit()\n",
    "\n",
    "\n",
    "\n",
    "cursor.close()\n",
    "sqlconn.close()\n",
    "\n"
   ]
  },
  {
   "cell_type": "code",
   "execution_count": null,
   "metadata": {},
   "outputs": [],
   "source": [
    "sqlconn = sqlite3.connect('PruebasTFG.db')\n",
    "cursor = sqlconn.cursor()\n",
    "\n",
    "\n",
    "\n",
    "iquery = \"\"\"INSERT INTO tablaTFG\n",
    "                          (id, nombre_ind, valor, fecha) \n",
    "                           VALUES \n",
    "                          (,'Citas perdidas','15','2023-09-09')\"\"\"\n",
    "\n",
    "cursor.execute(iquery)\n",
    "sqlconn.commit()\n",
    "\n",
    "\n",
    "\n",
    "cursor.close()\n",
    "sqlconn.close()"
   ]
  }
 ],
 "metadata": {
  "kernelspec": {
   "display_name": "Curso_Udemy",
   "language": "python",
   "name": "python3"
  },
  "language_info": {
   "name": "python",
   "version": "3.11.4"
  },
  "orig_nbformat": 4
 },
 "nbformat": 4,
 "nbformat_minor": 2
}
